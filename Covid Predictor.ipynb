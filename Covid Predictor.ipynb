{
 "cells": [
  {
   "cell_type": "markdown",
   "id": "678b3967",
   "metadata": {},
   "source": [
    "# COVID-19 PREDICTION"
   ]
  },
  {
   "cell_type": "markdown",
   "id": "9043c009",
   "metadata": {},
   "source": [
    "Jupyter notebook for predicting the possibility of COVID-19 in a patient by learning a machine learning model. I used a collection of images from the University of Montreal as test and learning sets."
   ]
  },
  {
   "cell_type": "markdown",
   "id": "d0520bc2",
   "metadata": {},
   "source": [
    "https://www.kaggle.com/datasets/pranavraikokte/covid19-image-dataset/data"
   ]
  },
  {
   "cell_type": "code",
   "execution_count": null,
   "id": "d8dfa2f0",
   "metadata": {},
   "outputs": [],
   "source": [
    "%pip install opencv-python\n",
    "%pip install tensorflow\n",
    "%pip install --upgrade scipy"
   ]
  },
  {
   "cell_type": "markdown",
   "id": "e65d168c",
   "metadata": {},
   "source": [
    "# Import necessary libraries"
   ]
  },
  {
   "cell_type": "code",
   "execution_count": 38,
   "id": "b6abd97d",
   "metadata": {},
   "outputs": [],
   "source": [
    "import numpy as np\n",
    "import pandas as pd\n",
    "import os\n",
    "import cv2\n",
    "import matplotlib.pyplot as plt\n",
    "import seaborn as sns\n",
    "from sklearn.model_selection import train_test_split\n",
    "from sklearn.metrics import classification_report, confusion_matrix\n",
    "from tensorflow.keras.models import Sequential, load_model\n",
    "from tensorflow.keras.layers import Conv2D, MaxPooling2D, Flatten, Dense, Dropout\n",
    "from tensorflow.keras.utils import to_categorical\n",
    "from tensorflow.keras import Input\n",
    "from tensorflow.keras.preprocessing.image import ImageDataGenerator"
   ]
  },
  {
   "cell_type": "markdown",
   "id": "42a9e158",
   "metadata": {},
   "source": [
    "# Define method to load and preprocess data"
   ]
  },
  {
   "cell_type": "code",
   "execution_count": 20,
   "id": "c91b5c68",
   "metadata": {},
   "outputs": [],
   "source": [
    "def load_data(data_dir):\n",
    "    images = []\n",
    "    labels = []\n",
    "    label_map = {'covid': 0, 'normal': 1, 'viral pneumonia': 2} \n",
    "    for category in label_map.keys():\n",
    "        path = os.path.join(data_dir, category)\n",
    "        for img in os.listdir(path):\n",
    "            img_path = os.path.join(path, img)\n",
    "            image = cv2.imread(img_path, cv2.IMREAD_GRAYSCALE)\n",
    "            image = cv2.resize(image, (128, 128))\n",
    "            images.append(image)\n",
    "            labels.append(label_map[category]) \n",
    "    images = np.array(images).reshape(-1, 128, 128, 1)\n",
    "    labels = np.array(labels)\n",
    "    return images, labels"
   ]
  },
  {
   "cell_type": "markdown",
   "id": "adcbfd42",
   "metadata": {},
   "source": [
    "# Load and preprocess train and test data"
   ]
  },
  {
   "cell_type": "code",
   "execution_count": 21,
   "id": "8ad624e2",
   "metadata": {},
   "outputs": [],
   "source": [
    "train_dir = 'train'\n",
    "test_dir = 'test'\n",
    "X_train, y_train = load_data(train_dir)\n",
    "X_test, y_test = load_data(test_dir)"
   ]
  },
  {
   "cell_type": "markdown",
   "id": "faa72ea6",
   "metadata": {},
   "source": [
    "# Normalize images"
   ]
  },
  {
   "cell_type": "code",
   "execution_count": 22,
   "id": "c77675c4",
   "metadata": {},
   "outputs": [],
   "source": [
    "X_train = X_train / 255.0\n",
    "X_test = X_test / 255.0"
   ]
  },
  {
   "cell_type": "markdown",
   "id": "fa91d0b7",
   "metadata": {},
   "source": [
    "# Convert labels to one-hot encoding"
   ]
  },
  {
   "cell_type": "code",
   "execution_count": 23,
   "id": "44adf3b3",
   "metadata": {},
   "outputs": [],
   "source": [
    "y_train = to_categorical(y_train, num_classes=3)\n",
    "y_test = to_categorical(y_test, num_classes=3)"
   ]
  },
  {
   "cell_type": "markdown",
   "id": "ef582e30",
   "metadata": {},
   "source": [
    "# Visualize data distribution"
   ]
  },
  {
   "cell_type": "code",
   "execution_count": 24,
   "id": "838429bb",
   "metadata": {},
   "outputs": [
    {
     "data": {
      "image/png": "[encoded data removed]",
      "text/plain": [
       "<Figure size 432x288 with 1 Axes>"
      ]
     },
     "metadata": {
      "needs_background": "light"
     },
     "output_type": "display_data"
    }
   ],
   "source": [
    "def plot_data_distribution(labels, label_map):\n",
    "    label_names = list(label_map.keys())\n",
    "    label_counts = [np.sum(labels == label_map[name]) for name in label_names]\n",
    "    sns.barplot(x=label_names, y=label_counts)\n",
    "    plt.title(\"Data Distribution\")\n",
    "    plt.xlabel(\"Classes\")\n",
    "    plt.ylabel(\"Number of Images\")\n",
    "    plt.show()\n",
    "\n",
    "plot_data_distribution(y_train.argmax(axis=1), {'covid': 0, 'normal': 1, 'viral pneumonia': 2})"
   ]
  },
  {
   "cell_type": "markdown",
   "id": "9e500011",
   "metadata": {},
   "source": [
    "# Data Augmentation"
   ]
  },
  {
   "cell_type": "code",
   "execution_count": 25,
   "id": "c1114783",
   "metadata": {},
   "outputs": [],
   "source": [
    "datagen = ImageDataGenerator(\n",
    "    rotation_range=20,\n",
    "    width_shift_range=0.2,\n",
    "    height_shift_range=0.2,\n",
    "    horizontal_flip=True\n",
    ")\n",
    "datagen.fit(X_train)"
   ]
  },
  {
   "cell_type": "markdown",
   "id": "bb41dec0",
   "metadata": {},
   "source": [
    "# Build model"
   ]
  },
  {
   "cell_type": "code",
   "execution_count": 26,
   "id": "52f1bcf4",
   "metadata": {},
   "outputs": [],
   "source": [
    "model = Sequential([\n",
    "    Input(shape=(128, 128, 1)),\n",
    "    Conv2D(32, (3, 3), activation='relu'),\n",
    "    MaxPooling2D((2, 2)),\n",
    "    Conv2D(64, (3, 3), activation='relu'),\n",
    "    MaxPooling2D((2, 2)),\n",
    "    Conv2D(128, (3, 3), activation='relu'),\n",
    "    MaxPooling2D((2, 2)),\n",
    "    Flatten(),\n",
    "    Dense(128, activation='relu'),\n",
    "    Dropout(0.5),\n",
    "    Dense(3, activation='softmax')\n",
    "])\n",
    "\n",
    "model.compile(optimizer='adam', loss='categorical_crossentropy', metrics=['accuracy'])"
   ]
  },
  {
   "cell_type": "markdown",
   "id": "e5ac1cf8",
   "metadata": {},
   "source": [
    "# Train model"
   ]
  },
  {
   "cell_type": "code",
   "execution_count": 31,
   "id": "d4c9c302",
   "metadata": {},
   "outputs": [
    {
     "name": "stdout",
     "output_type": "stream",
     "text": [
      "Epoch 1/15\n",
      "\u001b[1m8/8\u001b[0m \u001b[32m━━━━━━━━━━━━━━━━━━━━\u001b[0m\u001b[37m\u001b[0m \u001b[1m3s\u001b[0m 301ms/step - accuracy: 0.9029 - loss: 0.3177 - val_accuracy: 0.8636 - val_loss: 0.3186\n",
      "Epoch 2/15\n",
      "\u001b[1m8/8\u001b[0m \u001b[32m━━━━━━━━━━━━━━━━━━━━\u001b[0m\u001b[37m\u001b[0m \u001b[1m3s\u001b[0m 308ms/step - accuracy: 0.8858 - loss: 0.2811 - val_accuracy: 0.8333 - val_loss: 0.3107\n",
      "Epoch 3/15\n",
      "\u001b[1m8/8\u001b[0m \u001b[32m━━━━━━━━━━━━━━━━━━━━\u001b[0m\u001b[37m\u001b[0m \u001b[1m3s\u001b[0m 316ms/step - accuracy: 0.8934 - loss: 0.2804 - val_accuracy: 0.8485 - val_loss: 0.5259\n",
      "Epoch 4/15\n",
      "\u001b[1m8/8\u001b[0m \u001b[32m━━━━━━━━━━━━━━━━━━━━\u001b[0m\u001b[37m\u001b[0m \u001b[1m3s\u001b[0m 308ms/step - accuracy: 0.8661 - loss: 0.3115 - val_accuracy: 0.8788 - val_loss: 0.2679\n",
      "Epoch 5/15\n",
      "\u001b[1m8/8\u001b[0m \u001b[32m━━━━━━━━━━━━━━━━━━━━\u001b[0m\u001b[37m\u001b[0m \u001b[1m3s\u001b[0m 335ms/step - accuracy: 0.8863 - loss: 0.3538 - val_accuracy: 0.7424 - val_loss: 0.5218\n",
      "Epoch 6/15\n",
      "\u001b[1m8/8\u001b[0m \u001b[32m━━━━━━━━━━━━━━━━━━━━\u001b[0m\u001b[37m\u001b[0m \u001b[1m3s\u001b[0m 312ms/step - accuracy: 0.8098 - loss: 0.4156 - val_accuracy: 0.9242 - val_loss: 0.2695\n",
      "Epoch 7/15\n",
      "\u001b[1m8/8\u001b[0m \u001b[32m━━━━━━━━━━━━━━━━━━━━\u001b[0m\u001b[37m\u001b[0m \u001b[1m3s\u001b[0m 316ms/step - accuracy: 0.9159 - loss: 0.2508 - val_accuracy: 0.8485 - val_loss: 0.3219\n",
      "Epoch 8/15\n",
      "\u001b[1m8/8\u001b[0m \u001b[32m━━━━━━━━━━━━━━━━━━━━\u001b[0m\u001b[37m\u001b[0m \u001b[1m3s\u001b[0m 318ms/step - accuracy: 0.8984 - loss: 0.2732 - val_accuracy: 0.9091 - val_loss: 0.2625\n",
      "Epoch 9/15\n",
      "\u001b[1m8/8\u001b[0m \u001b[32m━━━━━━━━━━━━━━━━━━━━\u001b[0m\u001b[37m\u001b[0m \u001b[1m3s\u001b[0m 313ms/step - accuracy: 0.9059 - loss: 0.2735 - val_accuracy: 0.9091 - val_loss: 0.2827\n",
      "Epoch 10/15\n",
      "\u001b[1m8/8\u001b[0m \u001b[32m━━━━━━━━━━━━━━━━━━━━\u001b[0m\u001b[37m\u001b[0m \u001b[1m3s\u001b[0m 310ms/step - accuracy: 0.8660 - loss: 0.3047 - val_accuracy: 0.8636 - val_loss: 0.3739\n",
      "Epoch 11/15\n",
      "\u001b[1m8/8\u001b[0m \u001b[32m━━━━━━━━━━━━━━━━━━━━\u001b[0m\u001b[37m\u001b[0m \u001b[1m3s\u001b[0m 316ms/step - accuracy: 0.8503 - loss: 0.3124 - val_accuracy: 0.8485 - val_loss: 0.2926\n",
      "Epoch 12/15\n",
      "\u001b[1m8/8\u001b[0m \u001b[32m━━━━━━━━━━━━━━━━━━━━\u001b[0m\u001b[37m\u001b[0m \u001b[1m3s\u001b[0m 308ms/step - accuracy: 0.9440 - loss: 0.2148 - val_accuracy: 0.8333 - val_loss: 0.4010\n",
      "Epoch 13/15\n",
      "\u001b[1m8/8\u001b[0m \u001b[32m━━━━━━━━━━━━━━━━━━━━\u001b[0m\u001b[37m\u001b[0m \u001b[1m3s\u001b[0m 330ms/step - accuracy: 0.9062 - loss: 0.2467 - val_accuracy: 0.8939 - val_loss: 0.3052\n",
      "Epoch 14/15\n",
      "\u001b[1m8/8\u001b[0m \u001b[32m━━━━━━━━━━━━━━━━━━━━\u001b[0m\u001b[37m\u001b[0m \u001b[1m3s\u001b[0m 305ms/step - accuracy: 0.9194 - loss: 0.2027 - val_accuracy: 0.8636 - val_loss: 0.2614\n",
      "Epoch 15/15\n",
      "\u001b[1m8/8\u001b[0m \u001b[32m━━━━━━━━━━━━━━━━━━━━\u001b[0m\u001b[37m\u001b[0m \u001b[1m3s\u001b[0m 308ms/step - accuracy: 0.8548 - loss: 0.3374 - val_accuracy: 0.8182 - val_loss: 0.4955\n"
     ]
    }
   ],
   "source": [
    "history = model.fit(datagen.flow(X_train, y_train, batch_size=32), \n",
    "                    epochs=15, \n",
    "                    validation_data=(X_test, y_test))"
   ]
  },
  {
   "cell_type": "markdown",
   "id": "d4bcd486",
   "metadata": {},
   "source": [
    "# Plot training history"
   ]
  },
  {
   "cell_type": "code",
   "execution_count": 32,
   "id": "bd371a45",
   "metadata": {},
   "outputs": [
    {
     "data": {
      "image/png": "[encoded data removed]",
      "text/plain": [
       "<Figure size 864x288 with 2 Axes>"
      ]
     },
     "metadata": {
      "needs_background": "light"
     },
     "output_type": "display_data"
    }
   ],
   "source": [
    "def plot_training_history(history):\n",
    "    plt.figure(figsize=(12, 4))\n",
    "    \n",
    "    plt.subplot(1, 2, 1)\n",
    "    plt.plot(history.history['accuracy'], label='Train Accuracy')\n",
    "    plt.plot(history.history['val_accuracy'], label='Validation Accuracy')\n",
    "    plt.title('Accuracy over Epochs')\n",
    "    plt.xlabel('Epoch')\n",
    "    plt.ylabel('Accuracy')\n",
    "    plt.legend()\n",
    "    \n",
    "    plt.subplot(1, 2, 2)\n",
    "    plt.plot(history.history['loss'], label='Train Loss')\n",
    "    plt.plot(history.history['val_loss'], label='Validation Loss')\n",
    "    plt.title('Loss over Epochs')\n",
    "    plt.xlabel('Epoch')\n",
    "    plt.ylabel('Loss')\n",
    "    plt.legend()\n",
    "    \n",
    "    plt.show()\n",
    "\n",
    "plot_training_history(history)"
   ]
  },
  {
   "cell_type": "markdown",
   "id": "241386af",
   "metadata": {},
   "source": [
    "# Evaluate model"
   ]
  },
  {
   "cell_type": "code",
   "execution_count": 33,
   "id": "975e15dc",
   "metadata": {},
   "outputs": [
    {
     "name": "stdout",
     "output_type": "stream",
     "text": [
      "\u001b[1m3/3\u001b[0m \u001b[32m━━━━━━━━━━━━━━━━━━━━\u001b[0m\u001b[37m\u001b[0m \u001b[1m0s\u001b[0m 51ms/step\n"
     ]
    }
   ],
   "source": [
    "y_pred = model.predict(X_test)\n",
    "y_pred_classes = np.argmax(y_pred, axis=1)\n",
    "y_true = np.argmax(y_test, axis=1)"
   ]
  },
  {
   "cell_type": "markdown",
   "id": "01f87c5e",
   "metadata": {},
   "source": [
    "# Classification report"
   ]
  },
  {
   "cell_type": "code",
   "execution_count": 34,
   "id": "4be32c87",
   "metadata": {},
   "outputs": [
    {
     "name": "stdout",
     "output_type": "stream",
     "text": [
      "                 precision    recall  f1-score   support\n",
      "\n",
      "          covid       1.00      0.96      0.98        26\n",
      "         normal       0.85      0.55      0.67        20\n",
      "viral pneumonia       0.64      0.90      0.75        20\n",
      "\n",
      "       accuracy                           0.82        66\n",
      "      macro avg       0.83      0.80      0.80        66\n",
      "   weighted avg       0.85      0.82      0.82        66\n",
      "\n"
     ]
    }
   ],
   "source": [
    "print(classification_report(y_true, y_pred_classes, target_names=['covid', 'normal', 'viral pneumonia']))"
   ]
  },
  {
   "cell_type": "markdown",
   "id": "07ad0be6",
   "metadata": {},
   "source": [
    "# Confusion matrix"
   ]
  },
  {
   "cell_type": "code",
   "execution_count": 35,
   "id": "313c182b",
   "metadata": {},
   "outputs": [
    {
     "data": {
      "image/png": "[encoded data removed]",
      "text/plain": [
       "<Figure size 720x576 with 2 Axes>"
      ]
     },
     "metadata": {
      "needs_background": "light"
     },
     "output_type": "display_data"
    }
   ],
   "source": [
    "cm = confusion_matrix(y_true, y_pred_classes)\n",
    "plt.figure(figsize=(10, 8))\n",
    "sns.heatmap(cm, annot=True, fmt='d', cmap='Blues', xticklabels=['covid', 'normal', 'viral pneumonia'], yticklabels=['covid', 'normal', 'viral pneumonia'])\n",
    "plt.title('Confusion Matrix')\n",
    "plt.xlabel('Predicted')\n",
    "plt.ylabel('True')\n",
    "plt.show()"
   ]
  },
  {
   "cell_type": "markdown",
   "id": "fb03c3cd",
   "metadata": {},
   "source": [
    "# Save model"
   ]
  },
  {
   "cell_type": "code",
   "execution_count": 36,
   "id": "343facb1",
   "metadata": {},
   "outputs": [],
   "source": [
    "model.save('covid_detection_model.keras')"
   ]
  },
  {
   "cell_type": "markdown",
   "id": "e2c2a02f",
   "metadata": {},
   "source": [
    "# Load the saved model"
   ]
  },
  {
   "cell_type": "code",
   "execution_count": 44,
   "id": "f41b38e7",
   "metadata": {},
   "outputs": [],
   "source": [
    "model = load_model('covid_detection_model.keras')"
   ]
  },
  {
   "cell_type": "markdown",
   "id": "922b5cb3",
   "metadata": {},
   "source": [
    "# Function to preprocess a single image"
   ]
  },
  {
   "cell_type": "code",
   "execution_count": 45,
   "id": "90c654b8",
   "metadata": {},
   "outputs": [],
   "source": [
    "def preprocess_image(img_path):\n",
    "    image = cv2.imread(img_path, cv2.IMREAD_GRAYSCALE)\n",
    "    image = cv2.resize(image, (128, 128))\n",
    "    image = image.reshape(1, 128, 128, 1)  \n",
    "    image = image / 255.0  \n",
    "    return image"
   ]
  },
  {
   "cell_type": "markdown",
   "id": "c0dbd51e",
   "metadata": {},
   "source": [
    "# Function to predict the class of a single image"
   ]
  },
  {
   "cell_type": "code",
   "execution_count": 46,
   "id": "7cd7544f",
   "metadata": {},
   "outputs": [],
   "source": [
    "def predict_image(img_path):\n",
    "    image = preprocess_image(img_path)\n",
    "    prediction = model.predict(image)\n",
    "    predicted_class = np.argmax(prediction, axis=1)[0]\n",
    "    class_names = ['covid', 'normal', 'viral pneumonia']\n",
    "    return class_names[predicted_class]"
   ]
  },
  {
   "cell_type": "markdown",
   "id": "ffccc506",
   "metadata": {},
   "source": [
    "# Model usage"
   ]
  },
  {
   "cell_type": "code",
   "execution_count": 47,
   "id": "4233061f",
   "metadata": {},
   "outputs": [
    {
     "name": "stdout",
     "output_type": "stream",
     "text": [
      "\u001b[1m1/1\u001b[0m \u001b[32m━━━━━━━━━━━━━━━━━━━━\u001b[0m\u001b[37m\u001b[0m \u001b[1m0s\u001b[0m 109ms/step\n",
      "\u001b[1m1/1\u001b[0m \u001b[32m━━━━━━━━━━━━━━━━━━━━\u001b[0m\u001b[37m\u001b[0m \u001b[1m0s\u001b[0m 14ms/step\n",
      "The predicted class for the covid image is: covid\n",
      "The predicted class for the normal image is: normal\n"
     ]
    }
   ],
   "source": [
    "covid_path = '0106.jpeg'\n",
    "covid_result = predict_image(covid_path)\n",
    "normal_path = '0101.jpeg'\n",
    "normal_result = predict_image(normal_path)\n",
    "print(f'The predicted class for the covid image is: {covid_result}')\n",
    "print(f'The predicted class for the normal image is: {normal_result}')"
   ]
  }
 ],
 "metadata": {
  "kernelspec": {
   "display_name": "Python 3 (ipykernel)",
   "language": "python",
   "name": "python3"
  },
  "language_info": {
   "codemirror_mode": {
    "name": "ipython",
    "version": 3
   },
   "file_extension": ".py",
   "mimetype": "text/x-python",
   "name": "python",
   "nbconvert_exporter": "python",
   "pygments_lexer": "ipython3",
   "version": "3.10.4"
  }
 },
 "nbformat": 4,
 "nbformat_minor": 5
}
